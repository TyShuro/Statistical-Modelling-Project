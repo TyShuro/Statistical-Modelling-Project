{
 "cells": [
  {
   "cell_type": "code",
   "execution_count": null,
   "metadata": {},
   "outputs": [],
   "source": [
    "# imports\n",
    "import requests\n",
    "import pandas as pd\n"
   ]
  },
  {
   "cell_type": "markdown",
   "metadata": {},
   "source": [
 "# Foursquare"
   ]
  },
  {
   "cell_type": "markdown",
   "metadata": {},
   "source": [
    "Send a request to Foursquare with a small radius (1000m) for all the bike stations in your city of choice. "
   ]
  },
  {
   "cell_type": "code",
   "execution_count": null,
   "metadata": {},
   "outputs": [],
   "source": [
"def get_foursquare_data(latitude, longitude, foursquare_api_key, radius=1000, limit=50):\n",
    "    url = 'https://api.foursquare.com/v3/places/search'\n",
    "    headers = {\n",
    "        'Accept': 'application/json',\n",
    "        'Authorization': foursquare_api_key\n",
    "    }\n",
    "    params = {\n",
    "        'll': f'{latitude},{longitude}',\n",
    "        'radius': radius,\n",
    "        'limit': limit\n",
    "    }\n",
    "    response = requests.get(url, params=params, headers=headers)\n",
    "    if response.status_code != 200:\n",
    "        raise Exception('Error with Foursquare API call')\n",
    "    return response.json()\n"
   ]
  },
  {
   "cell_type": "markdown",
   "metadata": {},
   "source": [
    "Parse through the response to get the POI (such as restaurants, bars, etc) details you want (ratings, name, location, etc)"
   ]
  },
  {
   "cell_type": "code",
   "execution_count": null,
   "metadata": {},
   "outputs": [],
   "source": [
    "results = []\n",
    "for index, row in df_stations.iterrows():\n",
    "    if index > 240:\n",
    "        break\n",
    "    latitude = row['latitude']\n",
    "    longitude = row['longitude']\n",
    "    try:\n",
    "        data = get_foursquare_data(latitude, longitude, 'FOURSQUARE_API_KEY')['results']\n",
    "        for item in data:\n",
    "            item_data = {key: item.get(key) for key in item}\n",
    "            item_data.update({'Latitude': latitude, 'Longitude': longitude})\n",
    "            results.append(item_data)\n",
    "    except Exception as e:\n",
    "        print(f'Failed to fetch data for station at index {index}: {e}')\n",
    "\n",
    "df_results = pd.DataFrame(results)\n"
   ]
  },
  {
   "cell_type": "markdown",
   "metadata": {},
   "source": [
    "Put your parsed results into a DataFrame"
   ]
  },
  {
   "cell_type": "code",
   "execution_count": null,
   "metadata": {},
   "outputs": [],
   "source": [
"df_results = pd.DataFrame(results)\n",
"df_results\n"
   ]
  },
  {
   "cell_type": "markdown",
   "metadata": {},
   "source": [
    "# Yelp"
   ]
  },
  {
   "cell_type": "markdown",
   "metadata": {},
   "source": [
    "Send a request to Yelp with a small radius (1000m) for all the bike stations in your city of choice. "
   ]
  },
  {
   "cell_type": "code",
   "execution_count": null,
   "metadata": {},
   "outputs": [],
   "source": [
"import requests\n",
"import pandas as pd\n",
"\n",
"yelp_api_key = 'YELPKEY'\n",
"\n",
"# Define a function to get Yelp data\n",
"def get_yelp_data(latitude, longitude, api_key):\n",
"    url = 'https://api.yelp.com/v3/businesses/search'\n",
"    params = {\n",
"        'latitude': latitude,\n",
"        'longitude': longitude,\n",
"        'radius': 1000,\n",
"        'limit': 50\n",
"        # Add other parameters as needed\n",
"    }\n",
"    headers = {\n",
"        'Authorization': f'Bearer {api_key}'\n",
"    }\n",
"    response = requests.get(url, params=params, headers=headers)\n",
"    if response.status_code != 200:\n",
"        raise Exception('Error with Yelp API call')\n",
"    return response.json()\n",
"\n",
"results_yelp = []\n",
"\n",
"for index, row in df_stations.iterrows():\n",
"    if index > 240:\n",
"        break\n",
"\n",
"    latitude = row['latitude']\n",
"    longitude = row['longitude']\n",
"\n",
"    try:\n",
"        data = get_yelp_data(latitude, longitude, yelp_api_key)['businesses']\n",
"\n",
"        for item in data:\n",
"            results_yelp.append({\n",
"                'Latitude': latitude,\n",
"                'Longitude': longitude,\n",
"                'Yelp Name': item.get('name'),\n",
"                'Distance': item.get('distance'),\n",
"                'Rating': item.get('rating'),\n",
"                'Review Count': item.get('review_count'),\n",
"                'Categories': [category['title'] for category in item.get('categories')],\n",
"                'Price': item.get('price')\n",
"                # Add more fields as needed\n",
"            })\n",
"    except Exception as e:\n",
"        print(f'Failed to fetch Yelp data for station at index {index}: {e}')\n",
"\n",
"df_results_yelp = pd.DataFrame(results_yelp)\n"
   ]
  },
  {
   "cell_type": "markdown",
   "metadata": {},
   "source": [
    "Parse through the response to get the POI (such as restaurants, bars, etc) details you want (ratings, name, location, etc)"
   ]
  },
  {
   "cell_type": "code",
   "execution_count": null,
   "metadata": {},
   "outputs": [],
   "source": []
  },
  {
   "cell_type": "markdown",
   "metadata": {},
   "source": [
    "Put your parsed results into a DataFrame"
   ]
  },
  {
   "cell_type": "markdown",
   "metadata": {},
   "source": []
  },
  {
   "cell_type": "markdown",
   "metadata": {},
   "source": [
    "# Comparing Results"
   ]
  },
  {
   "cell_type": "markdown",
   "metadata": {},
   "source": [
    "Which API provided you with more complete data? Provide an explanation. "
   ]
  },
  {
   "cell_type": "markdown",
   "metadata": {},
   "source": []
  },
  {
   "cell_type": "markdown",
   "metadata": {},
   "source": [
    "Get the top 10 restaurants according to their rating"
   ]
  },
  {
   "cell_type": "code",
   "execution_count": null,
   "metadata": {},
   "outputs": [],
   "source": []
  }
 ],
 "metadata": {
  "kernelspec": {
   "display_name": "Python 3",
   "language": "python",
   "name": "python3"
  },
  "language_info": {
   "codemirror_mode": {
    "name": "ipython",
    "version": 3
   },
   "file_extension": ".py",
   "mimetype": "text/x-python",
   "name": "python",
   "nbconvert_exporter": "python",
   "pygments_lexer": "ipython3",
   "version": "3.8.5"
  }
 },
 "nbformat": 4,
 "nbformat_minor": 4
}
