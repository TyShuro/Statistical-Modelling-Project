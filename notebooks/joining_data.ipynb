{
 "cells": [
  {
   "cell_type": "markdown",
   "metadata": {},
   "source": [
    "Join the data from Part 1 with the data from Part 2 to create a new dataframe."
   ]
  },
  {
   "cell_type": "code",
   "execution_count": null,
   "metadata": {},
   "outputs": [],
   "source": [
"# Rename columns in df_results to lowercase\n",
"df_results.rename(columns={'Latitude': 'latitude', 'Longitude': 'longitude'}, inplace=True)\n",
"# merge\n",
"combined_df = pd.merge(df_stations, df_results, on=['latitude', 'longitude'])\n",
"df_results_yelp.rename(columns={'Latitude': 'latitude', 'Longitude': 'longitude'}, inplace=True)\n",
"combined_df = pd.merge(combined_df, df_results_yelp, on=['latitude', 'longitude'])\n"
   ]
  },
  {
   "cell_type": "markdown",
   "metadata": {},
   "source": [
    "Provide a visualization that you used as part of your EDA process. Explain the initial pattern or relationship you discoved through this visualization. "
   ]
  },
  {
   "cell_type": "code",
   "execution_count": null,
   "metadata": {},
   "outputs": [],
   "source": [
"import matplotlib.pyplot as plt\n",
"station_ids = df_stations.index if 'station_id' not in df_stations.columns else df_stations['station_id']\n",
"num_bikes = df_stations['number_of_bikes']\n",
"plt.figure(figsize=(15, 6))  # Adjust the figure size as needed\n",
"plt.bar(station_ids, num_bikes, color='blue')\n",
"# Adding labels and title\n",
"plt.xlabel('Station ID')\n",
"plt.ylabel('Number of Bikes Available')\n",
"plt.title('Number of Bikes at Each Station')\n",
"plt.xticks(rotation=90)\n",
"plt.show()\n",
"    .\n",
"Observed pattern:\n",
"Variability: The chart shows significant variability in the number of bikes available across different stations.\n",
"Some stations have a high number of bikes available (peaks), while others have very few or none (troughs).\n",
"Distribution: There doesn't appear to be a uniform distribution of bikes across the stations.\n",
"Instead, bike availability varies widely, which is typical for bike-sharing systems where\n",
"usage patterns can cause uneven distribution.\n"
   ]
  },
  {
   "cell_type": "markdown",
   "metadata": {},
   "source": [
    "# Database"
   ]
  },
  {
   "cell_type": "markdown",
   "metadata": {},
   "source": [
    "Put all your results in an SQLite3 database (remember, SQLite stores its databases as files in your local machine - make sure to create your database in your project's data/ directory!)"
   ]
  },
  {
   "cell_type": "code",
   "execution_count": null,
   "metadata": {},
   "outputs": [],
   "source": [
    "import sqlite3\n",
    "import pandas as pd\n",
    "db_path = 'my_poi_database.db'\n",
    "conn = sqlite3.connect(db_path)\n",
    "# Fetch the first few rows from each table\n",
    "bike_stations_query = \"SELECT * FROM bike_stations LIMIT 5\"\n",
    "pois_query = \"SELECT * FROM pois LIMIT 5\"\n",
    "# Fetching the data\n",
    "bike_stations_data = pd.read_sql_query(bike_stations_query, conn)\n",
    "pois_data = pd.read_sql_query(pois_query, conn)\n",
    "# Closing the database connection\n",
    "conn.close()\n",
    "# Displaying the data\n",
    "print(bike_stations_data)\n",
    "print(pois_data)\n",
    "# Saving the data to CSV files (Update the paths to your desired save location)\n",
    "bike_stations_data.to_csv('C:/Users/Admin/Documents/LighthouseLabs/bike_stations_data.csv', index=False)\n",
    "pois_data.to_csv('C:/Users/Admin/Documents/LighthouseLabs/pois_data.csv', index=False)\n"
   ]
  },
  {
   "cell_type": "markdown",
   "metadata": {},
   "source": [
    "Look at the data before and after the join to validate your data."
   ]
  },
  { "cell_type": "code",
  "execution_count": null,
  "metadata": {},
  "outputs": [],
  "source": [
    "# Inspecting the bike_stations data\n",
    "print(\"Bike Stations Data (Before Join):\")\n",
    "print(bike_stations_data.head())\n",
    "print(\"Number of rows:\", bike_stations_data.shape[0])\n",
    "print()\n",
    "\n",
    "# Inspecting the pois data\n",
    "print(\"POIs Data (Before Join):\")\n",
    "print(pois_data.head())\n",
    "print(\"Number of rows:\", pois_data.shape[0])\n",
    "print()\n",
    "print(\"Combined Data (After Join):\")\n",
    "print(combined_df.head())\n",
    "print(\"Number of rows:\", combined_df.shape[0])\n"
  ]
  },
  "language_info": {
   "codemirror_mode": {
    "name": "ipython",
    "version": 3
   },
   "file_extension": ".py",
   "mimetype": "text/x-python",
   "name": "python",
   "nbconvert_exporter": "python",
   "pygments_lexer": "ipython3",
   "version": "3.8.5"
  }
 },
 "nbformat": 4,
 "nbformat_minor": 4
}
