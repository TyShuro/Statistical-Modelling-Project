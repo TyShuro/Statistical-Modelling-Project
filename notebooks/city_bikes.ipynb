{
 "cells": [
  {
   "cell_type": "markdown",
   "metadata": {},
   "source": [
    "# CityBikes"
   ]
  },
  {
   "cell_type": "markdown",
   "metadata": {},
   "source": [
    "Send a request to CityBikes for the city of your choice. "
   ]
  },
  {
   "cell_type": "code",
   "execution_count": null,
   "metadata": {},
   "outputs": [],
   "source": [
    "import requests\n",
    "\n",
    "# The base URL for the CityBikes API\n",
    "api_base_url = 'http://api.citybik.es/v2/networks'\n",
    "\n",
    "# Make a GET request to fetch data for all the networks\n",
    "networks_response = requests.get(api_base_url)\n",
    "\n",
    "# Ensure the request was successful\n",
    "networks_response.raise_for_status()\n",
    "\n",
    "# Parse the JSON response\n",
    "networks_data = networks_response.json()\n"
   ]
  },
  {
   "cell_type": "markdown",
   "metadata": {},
   "source": [
    "Parse through the response to get the details you want for the bike stations in that city (latitude, longitude, number of bikes). "
   ]
  },
  {
   "cell_type": "code",
   "execution_count": null,
   "metadata": {},
   "outputs": [],
   "source": [
    "# Choose the city\n",
    "city_name = 'Vancouver'\n",
    "\n",
    "# Find the network ID for the chosen city\n",
    "vancouver_network_id = None\n",
    "for network in networks_data['networks']:\n",
    "    if city_name.lower() in network['location']['city'].lower():\n",
    "        vancouver_network_id = network['id']\n",
    "        break\n",
    "\n",
    "# Check if the network ID was found\n",
    "if vancouver_network_id:\n",
    "    print(f\"Found network ID for {city_name}: {vancouver_network_id}\")\n",
    "else:\n",
    "    print(f\"No bike network found for {city_name}\")\n"
   ]
  },
  {
   "cell_type": "markdown",
   "metadata": {},
   "source": [
    "Put your parsed results into a DataFrame."
   ]
  },
  {
   "cell_type": "code",
   "execution_count": null,
   "metadata": {},
   "outputs": [],
   "source": [
    "import pandas as pd\n",
    "\n",
    "# Define the DataFrame columns\n",
    "columns = ['latitude', 'longitude', 'free_bikes']\n",
    "\n",
    "# Parse the station data into a DataFrame\n",
    "df_stations = pd.DataFrame(stations, columns=columns)\n",
    "\n",
    "# Display the first few rows of the DataFrame\n",
    "df_stations.head()\n"
   ]
  }
 ],
 "metadata": {
  "kernelspec": {
   "display_name": "Python 3",
   "language": "python",
   "name": "python3"
  },
  "language_info": {
   "codemirror_mode": {
    "name": "ipython",
    "version": 3
   },
   "file_extension": ".py",
   "mimetype": "text/x-python",
   "name": "python",
   "nbconvert_exporter": "python",
   "pygments_lexer": "ipython3",
   "version": "3.8.5"
  }
 },
 "nbformat": 4,
 "nbformat_minor": 4
}
