{
 "cells": [
  {
   "cell_type": "markdown",
   "metadata": {},
   "source": [
    "## Part 4: Build a Regression Model"
   ]
  },
  {
   "cell_type": "code",
   "execution_count": null,
   "metadata": {},
   "outputs": [],
   "source": [
    "import pandas as pd\n",
    "import statsmodels.api as sm\n",
    "from sklearn.model_selection import train_test_split\n",
    "\n",
    "# Load the data\n",
    "df = pd.read_csv(r'C:\\Users\\Admin\\Documents\\LighthouseLabs\\combined_data.csv')\n",
    "\n",
    "# 'number_of_bikes' is the dependent variable\n",
    "# and 'Distance_y', 'Rating_y', 'Review Count', 'Price_y' are the independent variables\n",
    "X = df[['Distance_y', 'Rating_y', 'Review Count', 'Price_y']]\n",
    "y = df['number_of_bikes']\n",
    "\n",
    "# Spliting the data into training and testing sets\n",
    "X_train, X_test, y_train, y_test = train_test_split(X, y, test_size=0.2, random_state=42)\n",
    "\n",
    "# Fitting an OLS model\n",
    "model = sm.OLS(y_train, sm.add_constant(X_train)).fit()\n",
    "\n",
    "# Print out the statistics\n",
    "model.summary()"
   ]
  },
  {
   "cell_type": "markdown",
   "metadata": {},
   "source": [
    "## Model Output and Interpretation"
   ]
  },
  {
   "cell_type": "code",
   "execution_count": null,
   "metadata": {},
   "outputs": [],
   "source": [
    "# Displaying the regression results\n",
    "print(model.summary())\n",
    "\n",
    "# Predictions\n",
    "predictions = model.predict(sm.add_constant(X_test))\n",
    "comparison = pd.DataFrame({'Actual': y_test, 'Predicted': predictions})\n",
    "print(comparison.head())"
   ]
  },
  {
   "cell_type": "markdown",
   "metadata": {},
   "source": [
    "## Stretch: Turn the Regression Model into a Classification Model"
   ]
  },
  {
   "cell_type": "code",
   "execution_count": null,
   "metadata": {},
   "outputs": [],
   "source": [
    "# converting the continuous output of the regression into a binary classification\n",
    "# defining a threshold above which we classify a bike station as 'high availability'\n",
    "\n",
    "threshold = 15  # This is an arbitrary threshold for illustration\n",
    "df['high_availability'] = (df['number_of_bikes'] >= threshold).astype(int)\n",
    "\n",
    "# Now 'high_availability' can be used as the dependent variable in a classification model\n",
    "# ... (rest of the classification model code)"
   ]
  }
 ],
 "metadata": {
  "kernelspec": {
   "display_name": "Python 3",
   "language": "python",
   "name": "python3"
  },
  "language_info": {
   "codemirror_mode": {
    "name": "ipython",
    "version": 3
   },
   "file_extension": ".py",
   "mimetype": "text/x-python",
   "name": "python",
   "nbconvert_exporter": "python",
   "pygments_lexer": "ipython3",
   "version": "3.8.5"
  }
 },
 "nbformat": 4,
 "nbformat_minor": 4
}

